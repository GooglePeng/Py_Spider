{
 "cells": [
  {
   "cell_type": "code",
   "execution_count": 1,
   "metadata": {},
   "outputs": [],
   "source": [
    "# 网络爬虫三大版块：抓取 ---> 处理分析 ---> 存储\n",
    "# 爬虫路线：基本原理（下载--解析--存储）---> Requests+Xpath ---> Pandas存储数据 --->爬虫实战（翻页+Header+抓包）---> \n",
    "#      工程化爬虫（用Scrapy搭建爬虫框架）---> 数据库MongoDB ---> 反反扒技巧(代理池+请求头+验证法) ---> 分布式爬虫\n",
    "#     （Scrapy+Redis+MongoDB）"
   ]
  },
  {
   "cell_type": "code",
   "execution_count": 14,
   "metadata": {},
   "outputs": [],
   "source": [
    "# Requests  | （urllib2在python3中改名为urllib，被分成了一些子模块） | BeatifulSoup\n",
    "# Requests 比 urllib 更简洁\n",
    "# urllib 和 urllib2的区别：urllib 和urllib2都是接受URL请求的相关模块，但是urllib2可以接受一个Request类的实例来设置URL请求的headers，urllib仅可以接受URL。\n",
    "#                        这意味着，你不可以伪装你的User Agent字符串等。urllib提供urlencode方法用来GET查询字符串的产生，而urllib2没有。这是为何urllib常和urllib2一起使用的原因"
   ]
  },
  {
   "cell_type": "code",
   "execution_count": 7,
   "metadata": {},
   "outputs": [],
   "source": [
    "import requests\n",
    "html = requests.get(\"http://www.sogou.com\")\n",
    "# print(html.text)"
   ]
  },
  {
   "cell_type": "code",
   "execution_count": 15,
   "metadata": {},
   "outputs": [],
   "source": [
    "import urllib.request\n",
    "response = urllib.request.urlopen(\"http://quotes.toscrape.com/\")\n",
    "# print(response.read())"
   ]
  },
  {
   "cell_type": "code",
   "execution_count": 1,
   "metadata": {},
   "outputs": [
    {
     "name": "stdout",
     "output_type": "stream",
     "text": [
      "<title>Quotes to Scrape</title>\n"
     ]
    }
   ],
   "source": [
    "import requests\n",
    "from bs4 import BeautifulSoup\n",
    "html = requests.get(\"http://quotes.toscrape.com/\")\n",
    "soup = BeautifulSoup(html.text,'lxml')\n",
    "print(soup.title)"
   ]
  }
 ],
 "metadata": {
  "kernelspec": {
   "display_name": "Python 3",
   "language": "python",
   "name": "python3"
  },
  "language_info": {
   "codemirror_mode": {
    "name": "ipython",
    "version": 3
   },
   "file_extension": ".py",
   "mimetype": "text/x-python",
   "name": "python",
   "nbconvert_exporter": "python",
   "pygments_lexer": "ipython3",
   "version": "3.6.5"
  }
 },
 "nbformat": 4,
 "nbformat_minor": 2
}
